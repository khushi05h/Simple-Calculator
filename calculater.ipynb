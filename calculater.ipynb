{
 "cells": [
  {
   "cell_type": "code",
   "execution_count": 1,
   "id": "18cc01cc",
   "metadata": {},
   "outputs": [
    {
     "name": "stdout",
     "output_type": "stream",
     "text": [
      "addition: 5.0\n",
      "difference= -1.0\n",
      "product: 6.0\n",
      "divide=: 0.6666666666666666\n"
     ]
    }
   ],
   "source": [
    "num1=float(input(\"enter1\"))\n",
    "num2=float(input(\"enter2\"))\n",
    "sum=num1+num2\n",
    "difference=num1-num2\n",
    "product=num1*num2\n",
    "divide=num1/num2\n",
    "print(\"addition:\",sum) \n",
    "print(\"difference=\",difference) \n",
    "print(\"product:\",product) \n",
    "print(\"divide=:\",divide) "
   ]
  },
  {
   "cell_type": "code",
   "execution_count": null,
   "id": "b6f30082",
   "metadata": {},
   "outputs": [],
   "source": []
  }
 ],
 "metadata": {
  "kernelspec": {
   "display_name": "Python 3",
   "language": "python",
   "name": "python3"
  },
  "language_info": {
   "codemirror_mode": {
    "name": "ipython",
    "version": 3
   },
   "file_extension": ".py",
   "mimetype": "text/x-python",
   "name": "python",
   "nbconvert_exporter": "python",
   "pygments_lexer": "ipython3",
   "version": "3.13.1"
  }
 },
 "nbformat": 4,
 "nbformat_minor": 5
}
